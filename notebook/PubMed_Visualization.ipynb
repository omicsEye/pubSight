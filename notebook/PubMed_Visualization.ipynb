{
  "cells": [
    {
      "cell_type": "markdown",
      "metadata": {
        "id": "view-in-github",
        "colab_type": "text"
      },
      "source": [
        "<a href=\"https://colab.research.google.com/github/omicsEye/rahlab/blob/master/tools/PubMed_Visualization.ipynb\" target=\"_parent\"><img src=\"https://colab.research.google.com/assets/colab-badge.svg\" alt=\"Open In Colab\"/></a>"
      ]
    },
    {
      "cell_type": "markdown",
      "id": "technical-cookie",
      "metadata": {
        "id": "technical-cookie"
      },
      "source": [
        "# PubMed Visualization\n",
        "This notebook will help you to visualize the sample output of searches trough the PubMed database.  \n",
        "  \n",
        "## Data format\n",
        "To prepare the data:  \n",
        "1. place all the data files in a directory with the following name foramt:  _**GROUPNAME(underline)SUBGROUPNAME.csv**_\n",
        "2. replace the directory name with the _dat_directory_ argument in the **data_prep** function (It's default value is _pubmed_data_)"
      ]
    },
    {
      "cell_type": "code",
      "source": [
        "from google.colab import drive\n",
        "drive.mount('/content/drive')"
      ],
      "metadata": {
        "colab": {
          "base_uri": "https://localhost:8080/"
        },
        "id": "goTyCCgm8vw-",
        "outputId": "c5868f6e-bbb4-48c0-d7c5-4d65bbe4b0d6"
      },
      "id": "goTyCCgm8vw-",
      "execution_count": 3,
      "outputs": [
        {
          "output_type": "stream",
          "name": "stdout",
          "text": [
            "Mounted at /content/drive\n"
          ]
        }
      ]
    },
    {
      "cell_type": "code",
      "execution_count": 4,
      "id": "understood-evening",
      "metadata": {
        "id": "understood-evening"
      },
      "outputs": [],
      "source": [
        "import os\n",
        "import numpy as np\n",
        "import pandas as pd\n",
        "from matplotlib import pyplot as plt\n",
        "from matplotlib.gridspec import GridSpec\n",
        "import seaborn as sns\n",
        "import datetime"
      ]
    },
    {
      "cell_type": "code",
      "source": [
        "def data_prep(dat_directory  = 'path-to-data/'):\n",
        "    cn = 0\n",
        "    for file in os.listdir(dat_directory + '/'):\n",
        "        file_path = str(dat_directory + '/' + file)\n",
        "        temp = pd.read_csv(file_path, skiprows=1, sep=',')\n",
        "        temp.columns = ['year', 'count']\n",
        "        temp.loc[:, 'omics'] = file.split('_')[0].split('.')[0]\n",
        "        temp.loc[:, 'tech'] = file.split('_')[-1].split('.')[0]\n",
        "        if cn == 0:\n",
        "          df = temp.copy()\n",
        "        else:\n",
        "          df = pd.concat([df, temp], ignore_index=True)\n",
        "        cn += 1\n",
        "    return df"
      ],
      "metadata": {
        "id": "K3_Tp0w_tyJA"
      },
      "id": "K3_Tp0w_tyJA",
      "execution_count": 5,
      "outputs": []
    },
    {
      "cell_type": "code",
      "execution_count": 6,
      "id": "5dee8a0a",
      "metadata": {
        "id": "5dee8a0a"
      },
      "outputs": [],
      "source": [
        "def ncolors(n, colormap='cividis'):\n",
        "    CB_color_cycle = ['#377eb8', '#ff7f00', '#4daf4a',\n",
        "                  '#f781bf', '#a65628', '#984ea3',\n",
        "                  '#999999', '#e41a1c', '#dede00']\n",
        "    #seaborn-colorblind = ['0072B2', '009E73', 'D55E00', 'CC79A7', 'F0E442', '56B4E9']\n",
        "    \"\"\"utility for defining N evenly spaced colors across a color map\"\"\"\n",
        "    # colormap options: 'viridis' 'cividis' 'jet' 'gist_ncar', 'hsv', 'turbo'\n",
        "    #import matplotlib.style as style\n",
        "\n",
        "    #style.use(\"seaborn-colorblind\") \n",
        "    cmap = plt.get_cmap(colormap)\n",
        "    cmap_max = cmap.N\n",
        "    return [cmap(int(k * cmap_max / (n - 1))) for k in range(n)]"
      ]
    },
    {
      "cell_type": "code",
      "execution_count": 11,
      "id": "marked-consortium",
      "metadata": {
        "id": "marked-consortium",
        "outputId": "a40a82e0-1ae8-4050-ba5a-56c96bb145f7",
        "colab": {
          "base_uri": "https://localhost:8080/",
          "height": 505
        }
      },
      "outputs": [
        {
          "output_type": "stream",
          "name": "stdout",
          "text": [
            "['Adiposity', 'Alzeimer’s disease', 'COVID-19', 'Cancer', 'Cardiovascular', 'Inflammatory Bowel Disease', 'Kidney disease', 'Type 2 Diabetes']\n",
            "0      LC-MS\n",
            "1      LC-MS\n",
            "2      LC-MS\n",
            "3      LC-MS\n",
            "4      GC-MS\n",
            "       ...  \n",
            "337      NMR\n",
            "338      NMR\n",
            "339      NMR\n",
            "340      NMR\n",
            "341      NMR\n",
            "Name: tech, Length: 342, dtype: object\n",
            "Cancer\n",
            "Cardiovascular\n",
            "Type 2 Diabetes\n",
            "Adiposity\n",
            "Alzeimer’s disease\n",
            "Kidney disease\n"
          ]
        },
        {
          "output_type": "display_data",
          "data": {
            "text/plain": [
              "<Figure size 432x288 with 0 Axes>"
            ]
          },
          "metadata": {}
        },
        {
          "output_type": "display_data",
          "data": {
            "text/plain": [
              "<Figure size 518.4x115.2 with 6 Axes>"
            ],
            "image/png": "[encoded data removed]"
          },
          "metadata": {
            "needs_background": "light"
          }
        }
      ],
      "source": [
        "# name_list = ['Sparsity OR Zero-inflation', 'Batch effect OR Normalization', 'Longitudinal Or Time-series',\n",
        "#              'Multivariable OR Multivariate', 'Meta-analysis OR Mega-analysis', 'False discovery OR False positive']\n",
        "\n",
        "\n",
        "# name_list = ['Epigenomics', 'Genomics', 'Viromics', 'Metagenomics', 'Metabolomics','Proteomics']\n",
        "fig=plt.figure()\n",
        "fig = plt.figure(figsize=(7.2,1.6))\n",
        "gs=GridSpec(4,6,wspace=0.0,hspace = 0.0)\n",
        "#colors = ncolors(3)\n",
        "drive_path =  '/content/drive/My Drive/omicsEye/NatureMetabolism/' # '/content/drive/My Drive/omicsEye/NatureCompSci/' #\n",
        "px = []\n",
        "cn = 0\n",
        "df_main = data_prep(dat_directory= drive_path + '/data')\n",
        "name_list = list(set(df_main.loc[:, 'omics']))\n",
        "name_list.sort()\n",
        "print(name_list)\n",
        "print(df_main.loc[:, 'tech'])\n",
        "name_list = [ 'Metagenomics', 'Metabolomics', 'Proteomics',\n",
        "              'Genomics','Epigenomics', 'Viromics']\n",
        "name_list = ['Cancer', 'Cardiovascular', 'Type 2 Diabetes', 'Adiposity', 'COVID-19', 'Inflammatory Bowel Disease' ]\n",
        "name_list = ['Cancer', 'Cardiovascular', 'Type 2 Diabetes', 'Adiposity', 'Alzeimer’s disease', 'Kidney disease' ]\n",
        "min_year = df_main.loc[:, 'year'].min()\n",
        "max_year = df_main.loc[:, 'year'].max()\n",
        "temp_0 = pd.DataFrame(range(min_year, max_year+1), columns=['year'])\n",
        "tech_list = list(df_main.loc[:, 'tech'])\n",
        "tech_list.sort()\n",
        "colors = ncolors(len(tech_list))\n",
        "color_pal = {}\n",
        "for n, tech in enumerate(tech_list):\n",
        "  color_pal[tech] = colors[n]\n",
        "\n",
        "for i in [0,2]:\n",
        "    for j in [0,2,4]:\n",
        "        print (name_list[cn])\n",
        "        temp = df_main.loc[df_main.loc[:, 'omics'] == name_list[cn], :]\n",
        "        temp = pd.pivot_table(data=temp,\n",
        "                              index=['year'], \n",
        "                              columns=['tech'],\n",
        "                              values='count').reset_index()\n",
        "        df = temp_0.merge(temp, how = 'left')\n",
        "        df.fillna(0, inplace=True)\n",
        "\n",
        "        #print(df)\n",
        "        px.append(fig.add_subplot(gs[i:(i+2), j:(j+2)]))\n",
        "        px[-1].tick_params(axis='both', which='major', labelsize=6)\n",
        "        #print(len(df.columns)-1)\n",
        "        try:\n",
        "            df.plot(x='year', kind='bar',\n",
        "                    stacked = True, color= color_pal, ax = px[-1])\n",
        "        except:\n",
        "            pass\n",
        "        plt.xlabel(\"\")\n",
        "        ymin, ymax = px[-1].get_ylim()\n",
        "        #print(np.round(np.linspace(0, ymax, 2)))\n",
        "        px[-1].set_yticks(np.round(np.linspace(ymin, ymax, 5), 0))  \n",
        "        px[-1].xaxis.set_tick_params(labelsize=6)\n",
        "        px[-1].spines['top'].set_linewidth(0.1)\n",
        "        px[-1].spines['left'].set_linewidth(0.5)\n",
        "        px[-1].spines['right'].set_linewidth(0.1)\n",
        "        px[-1].spines['bottom'].set_linewidth(0.5)\n",
        "        px[-1].legend(loc ='upper left', fontsize = 5)\n",
        "        \n",
        "        if cn in [1, 4]:\n",
        "            px[-1].tick_params(axis=\"y\",direction=\"in\", pad=-15)\n",
        "        if cn in [2, 5]:\n",
        "            px[-1].yaxis.tick_right()\n",
        "        if cn <3:\n",
        "            px[-1].yaxis.get_major_ticks()[0].label1.set_visible(False)\n",
        "            px[-1].set_xticklabels([])\n",
        "        else:\n",
        "            px[-1].yaxis.get_major_ticks()[0].label1.set_visible(False)\n",
        "            px[-1].set_xticks(px[-1].get_xticks()[::2])\n",
        "            px[-1].xaxis.label.set_visible(False)\n",
        "            if cn > 3:\n",
        "                px[-1].xaxis.get_major_ticks()[0].label1.set_visible(False)\n",
        "                px[-1].tick_params(axis=\"x\",direction=\"out\", pad=1)\n",
        "\n",
        "          \n",
        "            \n",
        "        px[-1].xaxis.set_tick_params(labelsize=6)#COunt\n",
        "        px[-1].yaxis.set_tick_params(labelsize=6)#Year\n",
        "        \n",
        "#         tag = tag_finder(file_list[cn])\n",
        "        px[-1].text(.5, .85, name_list[cn], transform=px[-1].transAxes, ha=\"center\", weight='bold', size =7)\n",
        "        cn += 1\n",
        "fig.text(0.5, -0.03, 'Year', ha='center', fontsize = 7, weight='bold')\n",
        "fig.text(-0.01, 0.6, '# of publications', va='center', rotation='vertical', fontsize = 7, weight='bold')\n",
        "plt.tight_layout(pad=0.05)\n",
        "\n",
        "fig.savefig(drive_path+\"/SFig1_V2.pdf\", dpi=600, bbox_inches = \"tight\")\n",
        "fig.savefig(drive_path+\"/SFig1_V2.png\", dpi=600, bbox_inches = \"tight\")\n",
        "plt.show()"
      ]
    },
    {
      "cell_type": "code",
      "source": [],
      "metadata": {
        "id": "Bb6Wlsnw7Hq5"
      },
      "id": "Bb6Wlsnw7Hq5",
      "execution_count": null,
      "outputs": []
    }
  ],
  "metadata": {
    "celltoolbar": "Raw Cell Format",
    "colab": {
      "name": "PubMed Visualization.ipynb",
      "provenance": [],
      "include_colab_link": true
    },
    "kernelspec": {
      "display_name": "Python 3 (ipykernel)",
      "language": "python",
      "name": "python3"
    },
    "language_info": {
      "codemirror_mode": {
        "name": "ipython",
        "version": 3
      },
      "file_extension": ".py",
      "mimetype": "text/x-python",
      "name": "python",
      "nbconvert_exporter": "python",
      "pygments_lexer": "ipython3",
      "version": "3.9.7"
    }
  },
  "nbformat": 4,
  "nbformat_minor": 5
}